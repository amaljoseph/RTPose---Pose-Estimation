{
  "nbformat": 4,
  "nbformat_minor": 0,
  "metadata": {
    "colab": {
      "name": "RTPOSE-final.ipynb",
      "provenance": [],
      "collapsed_sections": []
    },
    "kernelspec": {
      "name": "python3",
      "display_name": "Python 3"
    },
    "accelerator": "GPU"
  },
  "cells": [
    {
      "cell_type": "code",
      "metadata": {
        "id": "9jqqa5U5YCjs",
        "colab": {
          "base_uri": "https://localhost:8080/",
          "height": 122
        },
        "outputId": "c3c547cb-78aa-498d-960e-508b518cc6c6"
      },
      "source": [
        "from google.colab import drive\n",
        "drive.mount('/content/drive')"
      ],
      "execution_count": null,
      "outputs": [
        {
          "output_type": "stream",
          "text": [
            "Go to this URL in a browser: https://accounts.google.com/o/oauth2/auth?client_id=947318989803-6bn6qk8qdgf4n4g3pfee6491hc0brc4i.apps.googleusercontent.com&redirect_uri=urn%3Aietf%3Awg%3Aoauth%3A2.0%3Aoob&scope=email%20https%3A%2F%2Fwww.googleapis.com%2Fauth%2Fdocs.test%20https%3A%2F%2Fwww.googleapis.com%2Fauth%2Fdrive%20https%3A%2F%2Fwww.googleapis.com%2Fauth%2Fdrive.photos.readonly%20https%3A%2F%2Fwww.googleapis.com%2Fauth%2Fpeopleapi.readonly&response_type=code\n",
            "\n",
            "Enter your authorization code:\n",
            "··········\n",
            "Mounted at /content/drive\n"
          ],
          "name": "stdout"
        }
      ]
    },
    {
      "cell_type": "code",
      "metadata": {
        "id": "sqMkS05OYHxI",
        "colab": {
          "base_uri": "https://localhost:8080/",
          "height": 34
        },
        "outputId": "54c606bc-40ec-4317-e4e1-cc8cd16c9446"
      },
      "source": [
        "cd drive/'My Drive'/exp"
      ],
      "execution_count": null,
      "outputs": [
        {
          "output_type": "stream",
          "text": [
            "/content/drive/My Drive/exp\n"
          ],
          "name": "stdout"
        }
      ]
    },
    {
      "cell_type": "code",
      "metadata": {
        "id": "bJ846ckOYokG",
        "colab": {
          "base_uri": "https://localhost:8080/",
          "height": 85
        },
        "outputId": "66372fee-8362-4692-c225-aa4b9518a0a3"
      },
      "source": [
        "#first\n",
        "ls"
      ],
      "execution_count": null,
      "outputs": [
        {
          "output_type": "stream",
          "text": [
            "adsad.png         \u001b[0m\u001b[01;34mcusat\u001b[0m/       \u001b[01;34mmodels\u001b[0m/         \u001b[01;34m__pycache__\u001b[0m/  sara.png\n",
            "amal.jpg          dhishna.jpg  PappaMummy.jpg  result.png    videoplayback\n",
            "coco_posenet.npz  entity.py    \u001b[01;34mpk-frame\u001b[0m/       \u001b[01;34mresults\u001b[0m/\n",
            "CocoPoseNet.py    \u001b[01;34mframes\u001b[0m/      \u001b[01;34mpk-result\u001b[0m/      sara11.png\n"
          ],
          "name": "stdout"
        }
      ]
    },
    {
      "cell_type": "code",
      "metadata": {
        "id": "i6Dif8AXX88s",
        "colab": {
          "base_uri": "https://localhost:8080/",
          "height": 34
        },
        "outputId": "79c11dc9-a1ea-4188-fc12-67d8302b6cc2"
      },
      "source": [
        "import os\n",
        "import cv2\n",
        "import chainer\n",
        "from models.pose_detector import PoseDetector, draw_person_pose\n",
        "\n",
        "chainer.using_config('enable_backprop', False)"
      ],
      "execution_count": null,
      "outputs": [
        {
          "output_type": "execute_result",
          "data": {
            "text/plain": [
              "<contextlib._GeneratorContextManager at 0x7f3df6befa58>"
            ]
          },
          "metadata": {
            "tags": []
          },
          "execution_count": 4
        }
      ]
    },
    {
      "cell_type": "code",
      "metadata": {
        "id": "KMEZcA4cBP6c",
        "colab": {
          "base_uri": "https://localhost:8080/",
          "height": 54
        },
        "outputId": "1d9dd94b-5ae0-4ddc-d666-93a04a79f77c"
      },
      "source": [
        "def append_images(img):\n",
        " \n",
        "    height, width, layers = img.shape\n",
        "    size = (width,height)\n",
        "    frame_array.append(img)\n",
        "    \n",
        "    return size\n",
        "  \n",
        "def stich_images(size):\n",
        "    pathOut = 'results/video_result.avi'\n",
        "    fps = 7.0\n",
        "    \n",
        "    out = cv2.VideoWriter(pathOut,cv2.VideoWriter_fourcc(*'DIVX'), fps, size)\n",
        " \n",
        "    for i in range(len(frame_array)):\n",
        "        out.write(frame_array[i])\n",
        "    out.release()\n",
        "    \n",
        "\n",
        "\"\"\"\n",
        "def FrameCapture(path):\n",
        "    vidObj = cv2.VideoCapture(path)\n",
        "    print(vidObj)\n",
        "    count = 0\n",
        "    success = 1\n",
        "    while success:\n",
        "        success, image = vidObj.read()\n",
        "        img_array.append(image)\n",
        "\"\"\""
      ],
      "execution_count": null,
      "outputs": [
        {
          "output_type": "execute_result",
          "data": {
            "text/plain": [
              "'\\ndef FrameCapture(path):\\n    vidObj = cv2.VideoCapture(path)\\n    print(vidObj)\\n    count = 0\\n    success = 1\\n    while success:\\n        success, image = vidObj.read()\\n        img_array.append(image)\\n'"
            ]
          },
          "metadata": {
            "tags": []
          },
          "execution_count": 5
        }
      ]
    },
    {
      "cell_type": "code",
      "metadata": {
        "id": "zmYuHzJ4bnyL"
      },
      "source": [
        "def load_frames(folder):\n",
        "    images = []\n",
        "    for filename in os.listdir(folder):\n",
        "        img = cv2.imread(os.path.join(folder,filename))\n",
        "        if img is not None:\n",
        "            images.append(img)\n",
        "    return images"
      ],
      "execution_count": null,
      "outputs": []
    },
    {
      "cell_type": "code",
      "metadata": {
        "id": "lSaV5btuXog5",
        "colab": {
          "base_uri": "https://localhost:8080/",
          "height": 207
        },
        "outputId": "fd1027e3-b51e-4c09-90df-1e1155580bd2"
      },
      "source": [
        "if __name__ == '__main__':\n",
        "    pose_detector = PoseDetector(\"posenet\", \"models/coco_posenet.npz\", device=0)\n",
        "    print('Model Loaded')\n",
        "    print('Loading Frames...')\n",
        "    images = load_frames('cusat')\n",
        "    print('Frames Loaded')\n",
        "    frame_array = []\n",
        "    print('RTPose prediction Running...')\n",
        "    for img in images:\n",
        "        person_pose_array, _ = pose_detector(img)\n",
        "        res_img = cv2.addWeighted(img, 0.6, draw_person_pose(img, person_pose_array), 0.4, 0)\n",
        "        frame_array.append(res_img)\n",
        "    print('RTPose prediction completed.')\n",
        "    size = append_images(res_img)\n",
        "    print('Stiching Images...')\n",
        "    stich_images(size)\n",
        "    print('Video Created successfully')"
      ],
      "execution_count": null,
      "outputs": [
        {
          "output_type": "stream",
          "text": [
            "Loading the model...\n",
            "Model Loaded\n",
            "Loading Frames...\n",
            "Frames Loaded\n",
            "RTPose prediction Running...\n"
          ],
          "name": "stdout"
        },
        {
          "output_type": "stream",
          "text": [
            "/content/drive/My Drive/exp/models/pose_detector.py:146: FutureWarning: Using a non-tuple sequence for multidimensional indexing is deprecated; use `arr[tuple(seq)]` instead of `arr[seq]`. In the future this will be interpreted as an array index, `arr[np.array(seq)]`, which will result either in an error or a different result.\n",
            "  paf_in_edge = np.hstack([paf[0][np.hsplit(integ_points, 2)], paf[1][np.hsplit(integ_points, 2)]])\n"
          ],
          "name": "stderr"
        },
        {
          "output_type": "stream",
          "text": [
            "RTPose prediction completed.\n",
            "Stiching Images...\n",
            "Video Created successfully\n"
          ],
          "name": "stdout"
        }
      ]
    },
    {
      "cell_type": "code",
      "metadata": {
        "id": "0v214-8fYzp_"
      },
      "source": [
        ""
      ],
      "execution_count": null,
      "outputs": []
    },
    {
      "cell_type": "markdown",
      "metadata": {
        "id": "HveQXYWX5Dgt"
      },
      "source": [
        ""
      ]
    }
  ]
}